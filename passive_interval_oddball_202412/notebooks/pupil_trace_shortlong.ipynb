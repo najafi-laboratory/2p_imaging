{
 "cells": [
  {
   "cell_type": "markdown",
   "id": "439dc8c2-a27d-4475-a2a3-e1d5c0379490",
   "metadata": {},
   "source": [
    "# Import functions for all processing\n",
    "Put this notebook inside passive_interval_oddball_202412 project folder. The fllowing is the same as main.py at the beginning."
   ]
  },
  {
   "cell_type": "code",
   "execution_count": 1,
   "id": "7560d701-6f31-4bb8-8c54-c34d678e083a",
   "metadata": {},
   "outputs": [],
   "source": [
    "import sys\n",
    "import warnings\n",
    "warnings.filterwarnings('ignore')\n",
    "\n",
    "import gc\n",
    "import os\n",
    "import argparse\n",
    "from datetime import datetime\n",
    "\n",
    "from modules import Trialization\n",
    "from modules.ReadResults import read_ops\n",
    "\n",
    "def combine_session_config_list(session_config_list):\n",
    "    list_session_data_path = []\n",
    "    for sc in session_config_list['list_config']:\n",
    "        list_session_data_path += [\n",
    "            os.path.join('results', sc['session_folder'], n)\n",
    "            for n in sc['list_session_name'].keys()]\n",
    "    list_session_name = [sc['list_session_name'] for sc in session_config_list['list_config']]\n",
    "    list_session_name = {k: v for d in list_session_name for k, v in d.items()}\n",
    "    session_config_list['list_session_name'] = list_session_name\n",
    "    session_config_list['list_session_data_path'] = list_session_data_path\n",
    "    return session_config_list"
   ]
  },
  {
   "cell_type": "markdown",
   "id": "a2be1707-0df5-4464-ad9f-307753f66be9",
   "metadata": {},
   "source": [
    "# Define the folder name to the sessions you want to process\n",
    "\n",
    "## Folder structure\n",
    "\n",
    "This notebook should be SomeWhere/passive_interval_oddball_202412/quick_start.ipynb.\n",
    "\n",
    "The data should be SomeWhere/passive_interval_oddball_202412/SubjectName/SessionName.\n",
    "\n",
    "In this example, we use 1 session from the random paradigm, and the session data is SomeWhere/passive_interval_oddball_202412/test/VTYH02_PPC_20250109_3331Random.\n",
    "\n",
    "## How to set the sessions going into the analysis\n",
    "\n",
    "Change list_session_name elements in session_config_test to add or exclude sessions. No need to change anything else at this time.\n",
    "\n",
    "## It works for both single and cross subject analysis\n",
    "\n",
    "Here, session_config_test is for cross subject analysis, while session_config_list_test specify the info for one subject. If you are running single subject analysis, list_config in session_config_list_test should have only 1 element for that subject."
   ]
  },
  {
   "cell_type": "markdown",
   "id": "062d2192-378e-4657-afa8-ef7eab9e0b05",
   "metadata": {},
   "source": [
    "## Using short long session as example below"
   ]
  },
  {
   "cell_type": "code",
   "execution_count": 5,
   "id": "fc9df960-415d-4d2e-aaaa-f834ad2cbb1f",
   "metadata": {},
   "outputs": [],
   "source": [
    "session_config_test = {\n",
    "        'list_session_name' : {\n",
    "            'YH18VT_V1_20250417_1451ShortLong' : 'short_long',\n",
    "            'YH18VT_V1_20250418_1451ShortLong' : 'short_long',\n",
    "            'YH18VT_V1_20250421_1451ShortLong' : 'short_long',\n",
    "            },\n",
    "        'session_folder' : 'YH18VT',\n",
    "        'sig_tag' : 'all',\n",
    "        'force_label' : None,\n",
    "        }\n",
    "session_config_list_test = {\n",
    "    'list_config': [\n",
    "        session_config_test,\n",
    "        ],\n",
    "    'label_names' : {\n",
    "        '-1':'Exc',\n",
    "        '1':'Inh_VIP',\n",
    "        '2':'Inh_SST',\n",
    "        },\n",
    "    'subject_name' : 'YH18VT',\n",
    "    'output_filename' : 'YH18VT_PPC_passive.html'\n",
    "    }"
   ]
  },
  {
   "cell_type": "markdown",
   "id": "a6bb3058-019d-4b97-8e6e-47d6a39cb895",
   "metadata": {},
   "source": [
    "Read all saved processsed results."
   ]
  },
  {
   "cell_type": "markdown",
   "id": "bb91b063-6195-4bbd-872b-e7b54b166bc7",
   "metadata": {},
   "source": [
    "Set other useful variables."
   ]
  },
  {
   "cell_type": "code",
   "execution_count": 7,
   "id": "9bc75c6b-860f-4820-a38e-f7a7e97cf8a8",
   "metadata": {},
   "outputs": [],
   "source": [
    "cate_list = [[-1,1,2]]\n",
    "\n",
    "import matplotlib.pyplot as plt\n",
    "\n",
    "label_names = {'-1':'Exc', '1':'Inh_VIP', '2':'Inh_SST'}\n",
    "cate = [-1,1,2]\n",
    "roi_id = None\n",
    "norm_mode='none'\n",
    "cluster_cmap = plt.cm.hsv\n",
    "standard = 1\n",
    "oddball = 1\n",
    "block = 0\n",
    "mode = 'post'\n",
    "temp_folder = 'temp_'+session_config_list_test['subject_name']\n",
    "if not os.path.exists(os.path.join('results', 'temp_'+session_config_list_test['subject_name'])):\n",
    "    os.makedirs(os.path.join('results', 'temp_'+session_config_list_test['subject_name']))"
   ]
  },
  {
   "cell_type": "markdown",
   "id": "1010846d-308e-4f8f-abfe-49247fdc8371",
   "metadata": {},
   "source": [
    "Run this to get session configurations. There is only 1 session so the list will have only 1 element. The list structure is using for cross session or cross subject settings."
   ]
  },
  {
   "cell_type": "code",
   "execution_count": 8,
   "id": "ae703388-735a-4147-af94-ec480a65f4c4",
   "metadata": {},
   "outputs": [
    {
     "name": "stdout",
     "output_type": "stream",
     "text": [
      "{'list_config': [{'list_session_name': {'YH18VT_V1_20250417_1451ShortLong': 'short_long', 'YH18VT_V1_20250418_1451ShortLong': 'short_long', 'YH18VT_V1_20250421_1451ShortLong': 'short_long'}, 'session_folder': 'YH18VT', 'sig_tag': 'all', 'force_label': None}], 'label_names': {'-1': 'Exc', '1': 'Inh_VIP', '2': 'Inh_SST'}, 'subject_name': 'YH18VT', 'output_filename': 'YH18VT_PPC_passive.html', 'list_session_name': {'YH18VT_V1_20250417_1451ShortLong': 'short_long', 'YH18VT_V1_20250418_1451ShortLong': 'short_long', 'YH18VT_V1_20250421_1451ShortLong': 'short_long'}, 'list_session_data_path': ['results\\\\YH18VT\\\\YH18VT_V1_20250417_1451ShortLong', 'results\\\\YH18VT\\\\YH18VT_V1_20250418_1451ShortLong', 'results\\\\YH18VT\\\\YH18VT_V1_20250421_1451ShortLong']}\n",
      "number of sessions: 3\n"
     ]
    }
   ],
   "source": [
    "session_config_list = combine_session_config_list(session_config_list_test)\n",
    "list_ops = read_ops(session_config_list['list_session_data_path'])\n",
    "print(session_config_list)\n",
    "print(f'number of sessions: {len(list_ops)}')"
   ]
  },
  {
   "cell_type": "markdown",
   "id": "c0fc0cb7-fd8e-432f-a35a-2da90004a7f9",
   "metadata": {},
   "source": [
    "# Reading data results\n",
    "\n",
    "Run the following to do trialization if it is not done yet. Otherwise, you can skip this."
   ]
  },
  {
   "cell_type": "code",
   "execution_count": 9,
   "id": "246effdb-37a6-41f8-ba29-edba12c78479",
   "metadata": {},
   "outputs": [
    {
     "name": "stdout",
     "output_type": "stream",
     "text": [
      "Reading dff traces and voltage recordings\n",
      "Correcting 2p camera trigger time\n",
      "Saving trial data\n",
      "Reading dff traces and voltage recordings\n",
      "Correcting 2p camera trigger time\n",
      "Saving trial data\n",
      "Reading dff traces and voltage recordings\n",
      "Correcting 2p camera trigger time\n",
      "Saving trial data\n"
     ]
    }
   ],
   "source": [
    "for i in range(len(list_ops)):\n",
    "    Trialization.run(list_ops[i])"
   ]
  },
  {
   "cell_type": "markdown",
   "id": "80152054-f7aa-4fe7-ae23-b97d231a5ec0",
   "metadata": {},
   "source": [
    "Now you can read all results for analysis as follows. If you want to smooth the trace, set smooth=True instead."
   ]
  },
  {
   "cell_type": "code",
   "execution_count": 11,
   "id": "282e5616-132e-4827-9d10-5a967d695ff6",
   "metadata": {},
   "outputs": [
    {
     "name": "stdout",
     "output_type": "stream",
     "text": [
      "Reading subject 1/1\n"
     ]
    },
    {
     "name": "stderr",
     "output_type": "stream",
     "text": [
      "100%|████████████████████████████████████████████| 3/3 [00:00<00:00,  4.22it/s]\n"
     ]
    }
   ],
   "source": [
    "from modules.ReadResults import read_all\n",
    "[list_labels, list_masks,list_neural_trials, list_move_offset] = read_all(session_config_list, smooth=False)"
   ]
  },
  {
   "cell_type": "markdown",
   "id": "2386d628-0824-470e-8666-f4d30f447a24",
   "metadata": {},
   "source": [
    "# Define utility functions\n",
    "\n",
    "All the following codes are drawed from utils.py. No need to go through the details.\n",
    "\n"
   ]
  },
  {
   "cell_type": "code",
   "execution_count": null,
   "id": "67e7f626-e530-4ace-b13e-2b302d7a3d68",
   "metadata": {},
   "outputs": [],
   "source": [
    "# compute mean and sem for 3d array data.\n",
    "def get_mean_sem(data, win_baseline=None):\n",
    "    # compute mean.\n",
    "    m = np.nanmean(data.reshape(-1, data.shape[-1]), axis=0)\n",
    "    # compute sem.\n",
    "    std = np.nanstd(data.reshape(-1, data.shape[-1]), axis=0)\n",
    "    count = np.nansum(~np.isnan(data.reshape(-1, data.shape[-1])), axis=0)\n",
    "    s = std / np.sqrt(count)\n",
    "    return m, s\n",
    "\n",
    "def plot_mean_sem(ax, t, m, s, c, l=None, a=1.0):\n",
    "    ax.plot(t, m, color=c, label=l, alpha=a)\n",
    "    ax.fill_between(t, m - s, m + s, color=c, alpha=0.25, edgecolor='none')\n",
    "    ax.set_xlim([np.min(t), np.max(t)])\n",
    "\n",
    "def plot_pupil(ax, nt, cp, c, u, l):\n",
    "    cp = rescale(cp, u, l)\n",
    "    ax.plot(nt, cp, color=c)"
   ]
  },
  {
   "cell_type": "markdown",
   "id": "0bb60a80-572a-45dd-ad89-f01f2c59e7ce",
   "metadata": {},
   "source": [
    "# Neural data alignment\n",
    "\n",
    "We are using classes for modularizations. All the following codes are drawed from fig5_1451ShortLong.py."
   ]
  },
  {
   "cell_type": "markdown",
   "id": "8fee5276-3e0d-45f8-84bc-4a1e91312d58",
   "metadata": {},
   "source": [
    "## Import functions and run alignment\n",
    "\n",
    "This is the same when initiating a plotter class."
   ]
  },
  {
   "cell_type": "code",
   "execution_count": 12,
   "id": "91ebff24-4fac-478f-a28e-6d711e251c09",
   "metadata": {},
   "outputs": [
    {
     "name": "stdout",
     "output_type": "stream",
     "text": [
      "Aligning trials for session 1/3\n"
     ]
    },
    {
     "name": "stderr",
     "output_type": "stream",
     "text": [
      "trials: 100%|███████████████████████████| 1990/1990 [00:00<00:00, 19350.23it/s]\n"
     ]
    },
    {
     "name": "stdout",
     "output_type": "stream",
     "text": [
      "Aligning trials for session 2/3\n"
     ]
    },
    {
     "name": "stderr",
     "output_type": "stream",
     "text": [
      "trials: 100%|███████████████████████████| 1990/1990 [00:00<00:00, 18632.65it/s]\n"
     ]
    },
    {
     "name": "stdout",
     "output_type": "stream",
     "text": [
      "Aligning trials for session 3/3\n"
     ]
    },
    {
     "name": "stderr",
     "output_type": "stream",
     "text": [
      "trials: 100%|███████████████████████████| 1990/1990 [00:00<00:00, 18248.38it/s]\n"
     ]
    }
   ],
   "source": [
    "import traceback\n",
    "import numpy as np\n",
    "import matplotlib.ticker as mtick\n",
    "from sklearn.decomposition import PCA\n",
    "from sklearn.metrics.pairwise import cosine_similarity\n",
    "from scipy.signal import savgol_filter\n",
    "\n",
    "from modules.Alignment import run_get_stim_response\n",
    "from modeling.clustering import get_mean_sem_cluster\n",
    "from modeling.clustering import get_cluster_cate\n",
    "from modeling.decoding import decoding_time_confusion\n",
    "from modeling.decoding import decoding_time_single\n",
    "from modeling.decoding import regression_time_frac\n",
    "from modeling.generative import get_glm_cate\n",
    "from modeling.quantifications import fit_trf_model\n",
    "\n",
    "from utils import norm01\n",
    "from utils import show_resource_usage\n",
    "from utils import get_norm01_params\n",
    "from utils import get_odd_stim_prepost_idx\n",
    "from utils import get_mean_sem_win\n",
    "from utils import get_mean_sem\n",
    "from utils import get_neu_trial\n",
    "from utils import get_frame_idx_from_time\n",
    "from utils import get_split_idx\n",
    "from utils import get_expect_interval\n",
    "from utils import get_block_1st_idx\n",
    "from utils import get_block_transition_idx\n",
    "from utils import exclude_odd_stim\n",
    "from utils import get_temporal_scaling_data\n",
    "from utils import get_cmap_color\n",
    "from utils import hide_all_axis\n",
    "from utils import get_random_rotate_mat_3d\n",
    "from utils import adjust_layout_isi_example_epoch\n",
    "from utils import adjust_layout_neu\n",
    "from utils import adjust_layout_3d_latent\n",
    "from utils import add_legend\n",
    "from utils import add_heatmap_colorbar\n",
    "from utils import utils_basic\n",
    "\n",
    "n_sess = len(list_neural_trials)\n",
    "alignment = run_get_stim_response(temp_folder, list_neural_trials, expected='none')\n",
    "list_stim_labels = alignment['list_stim_labels']\n",
    "list_odd_idx = [\n",
    "    get_odd_stim_prepost_idx(sl) for sl in list_stim_labels]\n",
    "expect = np.nanmin(np.array([get_expect_interval(sl) for sl in list_stim_labels]),axis=0)\n",
    "list_block_start = [get_block_1st_idx(sl, 3) for sl in list_stim_labels]\n",
    "bin_win = [450,2550]\n",
    "bin_num = 2\n",
    "d_latent = 3"
   ]
  },
  {
   "cell_type": "markdown",
   "id": "db0c6296-4303-4ac5-8e67-3e0b89529d74",
   "metadata": {},
   "source": [
    "All the trialized neural data are in alignment. It has the following keys to access. Each element in alignment is a list. This list has the results for multiple sessions. "
   ]
  },
  {
   "cell_type": "markdown",
   "id": "001b9685-0077-4d45-befc-08e7f2f1bd4f",
   "metadata": {},
   "source": [
    "### Neural data\n",
    "list_neu_seq is the neural data after alignment on each image onset. It has l_frames before the onset and r_frames after onset. Each element in this list represents 1 session, and has the shape of $n_{trials} \\times n_{neurons} \\times n_{times}$.\n",
    "\n",
    "neu_time is the time stamps of the neural data with the shape of $n_{times}$."
   ]
  },
  {
   "cell_type": "code",
   "execution_count": 13,
   "id": "8c8e29d3-00c3-4825-a8c3-5479c309b0d4",
   "metadata": {},
   "outputs": [
    {
     "name": "stdout",
     "output_type": "stream",
     "text": [
      "shape of aligned neural data in a session: [(1990, 200, 600), (1990, 254, 600), (1990, 116, 600)]\n",
      "shape of aligned neural timestamps in a session: (600,)\n"
     ]
    }
   ],
   "source": [
    "print('shape of aligned neural data in a session: {}'.format([lns.shape for lns in alignment['list_neu_seq']]))\n",
    "print('shape of aligned neural timestamps in a session: {}'.format(alignment['neu_time'].shape))"
   ]
  },
  {
   "cell_type": "markdown",
   "id": "3a78624f-263b-4747-a2d8-6450c1ac64bb",
   "metadata": {},
   "source": [
    "### Image trial data\n",
    "\n",
    "list_stim_labels is for accessing trial specific neural data. It marks the information for each image (trial). Each row represents 1 image.\n",
    "\n",
    "* row 0: stim start.\n",
    "* row 1: stim end.\n",
    "* row 2: img_seq_label.\n",
    "* row 3: standard_types.\n",
    "* row 4: fix_jitter_types.\n",
    "* row 5: oddball_types.\n",
    "* row 6: random_types.\n",
    "* row 7: opto_types.\n",
    "\n",
    "Now show the first 5 image here."
   ]
  },
  {
   "cell_type": "code",
   "execution_count": 14,
   "id": "6d423078-1790-4b3f-99d0-e1b8b0abecb1",
   "metadata": {
    "scrolled": true
   },
   "outputs": [
    {
     "name": "stdout",
     "output_type": "stream",
     "text": [
      "[[29937 30135     5     0     1     0     1     0]\n",
      " [31937 32135     5     0     1     0     1     0]\n",
      " [34470 34669     4     0     1     0     1     0]\n",
      " [35870 36069     2     0     1     0     1     0]\n",
      " [36870 37069     4     0     1     0     1     0]]\n"
     ]
    }
   ],
   "source": [
    "print(alignment['list_stim_labels'][0][:5,:])"
   ]
  },
  {
   "cell_type": "markdown",
   "id": "c2ce4c55-4b3e-42cc-93d8-a29bd6b8720e",
   "metadata": {},
   "source": [
    "The stimulus timing for one trial has been already proceesed in list_stim_seq. It has multiple stimulus onset and end before and after the alignment center after trial averaged.\n",
    "\n",
    "Now show the stimulus timing for the 5th aligned trial. "
   ]
  },
  {
   "cell_type": "code",
   "execution_count": 15,
   "id": "3214f5ce-0fa4-4bc0-9386-8d702767b18c",
   "metadata": {},
   "outputs": [
    {
     "name": "stdout",
     "output_type": "stream",
     "text": [
      "[[-8400 -8202]\n",
      " [-6400 -6202]\n",
      " [-3867 -3668]\n",
      " [-2467 -2268]\n",
      " [-1467 -1268]\n",
      " [    0   198]\n",
      " [ 1200  1398]\n",
      " [ 2933  3132]\n",
      " [ 3800  3998]\n",
      " [ 5933  6132]\n",
      " [ 6933  7132]]\n"
     ]
    }
   ],
   "source": [
    "print(alignment['list_stim_seq'][0][5,:])"
   ]
  },
  {
   "cell_type": "markdown",
   "id": "03318b3b-e0e6-43d1-bf8f-d914706cb793",
   "metadata": {},
   "source": [
    "The center stimulus index for alignment can be accessed similar as the following. By setting the number around c_idx you can access stimulus before or after it."
   ]
  },
  {
   "cell_type": "code",
   "execution_count": 16,
   "id": "1749d71c-d591-4126-93cd-b179fbf59719",
   "metadata": {},
   "outputs": [
    {
     "name": "stdout",
     "output_type": "stream",
     "text": [
      "onset and end of the aligned stimulus: [  0 198]\n",
      "onset and end of the stimlus before center: [-1467 -1268]\n",
      "onset and end of the stimulus after center: [1200 1398]\n"
     ]
    }
   ],
   "source": [
    "stim_seq = alignment['list_stim_seq'][0][5,:]\n",
    "c_idx = int(stim_seq.shape[0]/2)\n",
    "print('onset and end of the aligned stimulus: {}'.format(stim_seq[c_idx,:]))\n",
    "print('onset and end of the stimlus before center: {}'.format(stim_seq[c_idx-1,:]))\n",
    "print('onset and end of the stimulus after center: {}'.format(stim_seq[c_idx+1,:]))"
   ]
  },
  {
   "cell_type": "markdown",
   "id": "bf7f5006-b398-4987-af3d-5abe4141cc5a",
   "metadata": {},
   "source": [
    "list_pre_isi is the interval between the center image and the one before it.\n",
    "\n",
    "Now show the interval before the 5th alignment stimulus."
   ]
  },
  {
   "cell_type": "code",
   "execution_count": 17,
   "id": "be339dba-0a47-4b33-a389-39ffee394ab7",
   "metadata": {},
   "outputs": [
    {
     "name": "stdout",
     "output_type": "stream",
     "text": [
      "isi before image: 1268\n"
     ]
    }
   ],
   "source": [
    "print('isi before image: {}'.format(alignment['list_pre_isi'][0][5]))"
   ]
  },
  {
   "cell_type": "markdown",
   "id": "0cfb6562-4671-47f3-bbd5-eeb5c0f20c98",
   "metadata": {},
   "source": [
    "## Accessing trial averaged data\n",
    "\n",
    "Use get_neu_trial defined in passive_interval_oddball_202412/utils.py to access trials with specific trial labels. Set cate to the neuron categories as a list, and the trial label as a list. Note that get_neu_trial is the main function to access individual trials for all neurons. The main flexibility of it is specified by these inputs:\n",
    "1. trial_idx=None: If you know the exact indices of the trials (e.g., block transition analysis), replace it here. By default, this is usually not used.\n",
    "2. trial_param=None: This is the main input to collect trial results. Details as follows.\n",
    "3. mean_sem=True: Whether return single trial data or return trial averaged concatenated data.\n",
    "4. sub_sampling=False: Whehter use boostrapping for subsampling the trials to construct pseudo trial data, useful for decoding.\n",
    "\n",
    "The list input trial_param is the one to access each trial, where each element gives what are the target label for list_labels. For example, the following input [[2,3,4,5], None, None, None, [1], [0]] means:\n",
    "* all 4 image orientation defined in img_seq_label.\n",
    "* no need to set standard_types.\n",
    "* no need to set fix_jitter_types.\n",
    "* no need to set oddball_types.\n",
    "* image with random isi and random image.\n",
    "* no opto."
   ]
  },
  {
   "cell_type": "markdown",
   "id": "676d7897-1256-4150-adbd-415816ad33c3",
   "metadata": {},
   "source": [
    "Now show the trial for all neurons averaged during short and long isi. Be advised, in this setting, the neural data has been averaged across trials and concatenate across sessions."
   ]
  },
  {
   "cell_type": "code",
   "execution_count": 18,
   "id": "94bbf42c-1a8e-48f8-a584-0cbd2a6f0361",
   "metadata": {},
   "outputs": [],
   "source": [
    "[_, [neu_seq_0, _, stim_seq_0, camera_pupil_0], _, _] = get_neu_trial(\n",
    "    alignment, list_labels, list_stim_labels,\n",
    "    trial_param=[[2,3,4,5], [0], None, None, [0], [0]],\n",
    "    cate=cate, roi_id=None)\n",
    "[_, [neu_seq_1, _, stim_seq_1, camera_pupil_1], _, _] = get_neu_trial(\n",
    "    alignment, list_labels, list_stim_labels,\n",
    "    trial_param=[[2,3,4,5], [1], None, None, [0], [0]],\n",
    "    cate=cate, roi_id=None)"
   ]
  },
  {
   "cell_type": "markdown",
   "id": "d9a3b79c-e0bf-4a68-bcfd-04cf468f3cf5",
   "metadata": {},
   "source": [
    "neu_seq gives the target neural data with the shape of $n_{neurons} \\times n_{times}$."
   ]
  },
  {
   "cell_type": "code",
   "execution_count": 19,
   "id": "988ffce6-6746-486f-b9e7-4cedfb486e4b",
   "metadata": {},
   "outputs": [
    {
     "name": "stdout",
     "output_type": "stream",
     "text": [
      "shape of neural data during short isi: (487, 600)\n",
      "shape of neural data during long isi: (487, 600)\n"
     ]
    }
   ],
   "source": [
    "print('shape of neural data during short isi: {}'.format(neu_seq_0.shape))\n",
    "print('shape of neural data during long isi: {}'.format(neu_seq_1.shape))"
   ]
  },
  {
   "cell_type": "code",
   "execution_count": 20,
   "id": "e6b68f5a-7666-4b4a-b5a0-ebce9a507b98",
   "metadata": {},
   "outputs": [
    {
     "name": "stdout",
     "output_type": "stream",
     "text": [
      "shape of pupil data during short isi: (600,)\n",
      "shape of pupil data during long isi: (600,)\n"
     ]
    }
   ],
   "source": [
    "print('shape of pupil data during short isi: {}'.format(camera_pupil_0.shape))\n",
    "print('shape of pupil data during long isi: {}'.format(camera_pupil_1.shape))"
   ]
  },
  {
   "cell_type": "markdown",
   "id": "6049dfb1-e950-4ed2-8227-9ad326255048",
   "metadata": {},
   "source": [
    "Now plot the response during short and long isi respectively. It is trial averaged, and shows mean/sem across all neurons.\n",
    "\n",
    "To access the neural data within a given window, please use get_frame_idx_from_time. It gives you the start and end indice given a window. The function inputs are the time stamp array, the center reference time point, time before the reference, the time after the reference.\n",
    "\n",
    "Now get the same result but across all neurons within $[-2500, 2000]$ ms, so set the center to $0$, the time before to $-1500$, the time after to $1000$."
   ]
  },
  {
   "cell_type": "code",
   "execution_count": 32,
   "id": "3d72af50-7852-4872-85ea-fb5fde1c06a0",
   "metadata": {},
   "outputs": [
    {
     "name": "stdout",
     "output_type": "stream",
     "text": [
      "shape of neural data within the window (short block): (487, 134)\n",
      "shape of neural data within the window (long block): (487, 134)\n"
     ]
    }
   ],
   "source": [
    "win_eval = [-2500, 2000]\n",
    "l_idx, r_idx = get_frame_idx_from_time(alignment['neu_time'], 0, win_eval[0], win_eval[1])\n",
    "neu_seq_win_0 = neu_seq_0[:,l_idx:r_idx]\n",
    "neu_seq_win_1 = neu_seq_1[:,l_idx:r_idx]\n",
    "neu_time_win = alignment['neu_time'][l_idx:r_idx]\n",
    "print('shape of neural data within the window (short block): {}'.format(neu_seq_win_0.shape))\n",
    "print('shape of neural data within the window (long block): {}'.format(neu_seq_win_1.shape))"
   ]
  },
  {
   "cell_type": "markdown",
   "id": "e3c17c4f-4d32-4ef5-9d69-05dd31efa5d0",
   "metadata": {},
   "source": [
    "Almost all plots about averaged traces follow the same logic as:\n",
    "1. Find average across neurons with get_mean_sem.\n",
    "2. Find the upper and lower bounds of the mean responses.\n",
    "3. Plot the stimulus timing with fill_between.\n",
    "4. Plot the neural responses with plot_mean_sem.\n",
    "5. Ajust the overall layout based on adjust_layout_neu."
   ]
  },
  {
   "cell_type": "code",
   "execution_count": 33,
   "id": "d149f76b-dc85-4bde-90f0-bc59386772d9",
   "metadata": {},
   "outputs": [
    {
     "data": {
      "image/png": "[encoded data removed]",
      "text/plain": [
       "<Figure size 500x500 with 1 Axes>"
      ]
     },
     "metadata": {},
     "output_type": "display_data"
    }
   ],
   "source": [
    "color0 = 'dimgrey'\n",
    "color1 = 'dodgerblue'\n",
    "color2 = 'springgreen'\n",
    "\n",
    "fig, ax = plt.subplots(1, 1, figsize=(5, 5))\n",
    "\n",
    "mean_0, sem_0 = get_mean_sem(neu_seq_win_0)\n",
    "mean_1, sem_1 = get_mean_sem(neu_seq_win_1)\n",
    "# compute bounds.\n",
    "upper = np.nanmax([mean_0, mean_1]) + np.nanmax([sem_0, sem_1])\n",
    "lower = np.nanmin([mean_0, mean_1]) - np.nanmax([sem_0, sem_1])\n",
    "# plot stimulus.\n",
    "ax.fill_between(\n",
    "    stim_seq[int(stim_seq.shape[0]/2),:],\n",
    "    lower - 0.1*(upper-lower), upper + 0.1*(upper-lower),\n",
    "    color=color0, edgecolor='none', alpha=0.25, step='mid')\n",
    "# plot neural traces.\n",
    "plot_mean_sem(ax, neu_time_win, mean_0, sem_0, color1, None)\n",
    "plot_mean_sem(ax, neu_time_win, mean_1, sem_1, color2, None)\n",
    "# adjust layout.\n",
    "adjust_layout_neu(ax)\n",
    "ax.set_ylim([lower - 0.1*(upper-lower), upper + 0.1*(upper-lower)])\n",
    "ax.set_xlabel('time since stim (ms)')\n",
    "add_legend(ax, [color0, color1, color2], ['stim', 'short', 'long'], None, None, None, 'upper right')\n",
    "\n",
    "plt.show()"
   ]
  },
  {
   "cell_type": "markdown",
   "id": "1502a179-d4f0-432d-8265-bd408d1a0879",
   "metadata": {},
   "source": [
    "Now plot the same trial averaged but for pupil trace."
   ]
  },
  {
   "cell_type": "code",
   "execution_count": 34,
   "id": "d6b1db41-db67-4e6d-b600-39c06952b105",
   "metadata": {},
   "outputs": [
    {
     "data": {
      "image/png": "[encoded data removed]",
      "text/plain": [
       "<Figure size 500x500 with 1 Axes>"
      ]
     },
     "metadata": {},
     "output_type": "display_data"
    }
   ],
   "source": [
    "cp_0 = camera_pupil_0[l_idx:r_idx]\n",
    "cp_1 = camera_pupil_1[l_idx:r_idx]\n",
    "\n",
    "fig, ax = plt.subplots(1, 1, figsize=(5, 5))\n",
    "ax.fill_between(\n",
    "    stim_seq_0[int(stim_seq_0.shape[0]/2),:],\n",
    "    0, 1,\n",
    "    color=color0, edgecolor='none', alpha=0.25, step='mid')\n",
    "plot_pupil(ax, neu_time_win, cp_0, color1, 0, 1)\n",
    "plot_pupil(ax, neu_time_win, cp_1, color2, 0, 1)"
   ]
  },
  {
   "cell_type": "code",
   "execution_count": null,
   "id": "dcca42ee-a453-4338-a23c-5c56036fa1e7",
   "metadata": {},
   "outputs": [],
   "source": []
  }
 ],
 "metadata": {
  "kernelspec": {
   "display_name": "Python 3 (ipykernel)",
   "language": "python",
   "name": "python3"
  },
  "language_info": {
   "codemirror_mode": {
    "name": "ipython",
    "version": 3
   },
   "file_extension": ".py",
   "mimetype": "text/x-python",
   "name": "python",
   "nbconvert_exporter": "python",
   "pygments_lexer": "ipython3",
   "version": "3.10.18"
  }
 },
 "nbformat": 4,
 "nbformat_minor": 5
}
